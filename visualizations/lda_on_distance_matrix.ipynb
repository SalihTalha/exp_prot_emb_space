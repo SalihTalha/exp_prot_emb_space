{
 "cells": [
  {
   "cell_type": "code",
   "execution_count": 3,
   "id": "initial_id",
   "metadata": {
    "collapsed": true,
    "ExecuteTime": {
     "end_time": "2025-01-18T16:05:24.650449Z",
     "start_time": "2025-01-18T16:05:22.217453Z"
    }
   },
   "outputs": [],
   "source": [
    "# import numpy as np\n",
    "# \n",
    "# # Load the distance matrix\n",
    "# distance_matrix = np.load(\"identity_matrix_mmseq2.npy\")"
   ]
  },
  {
   "cell_type": "code",
   "execution_count": 4,
   "outputs": [
    {
     "data": {
      "text/plain": "array([[100.   ,   0.698,   0.591, ...,   0.   ,   0.   ,   0.   ],\n       [  0.71 , 100.   ,   0.64 , ...,   0.   ,   0.   ,   0.   ],\n       [  0.605,   0.635, 100.   , ...,   0.   ,   0.   ,   0.   ],\n       ...,\n       [  0.   ,   0.   ,   0.   , ..., 100.   ,   0.583,   0.578],\n       [  0.   ,   0.   ,   0.   , ...,   0.58 , 100.   ,   0.923],\n       [  0.   ,   0.   ,   0.   , ...,   0.572,   0.92 , 100.   ]])"
     },
     "execution_count": 4,
     "metadata": {},
     "output_type": "execute_result"
    }
   ],
   "source": [
    "# distance_matrix[500:600, 500:600]"
   ],
   "metadata": {
    "collapsed": false,
    "ExecuteTime": {
     "end_time": "2025-01-18T16:05:27.174718Z",
     "start_time": "2025-01-18T16:05:27.144417Z"
    }
   },
   "id": "859b7954eb96abb0"
  },
  {
   "cell_type": "code",
   "execution_count": 5,
   "outputs": [],
   "source": [
    "# distance_matrix = (distance_matrix + distance_matrix.T) / 2"
   ],
   "metadata": {
    "collapsed": false,
    "ExecuteTime": {
     "end_time": "2025-01-18T16:05:40.801125Z",
     "start_time": "2025-01-18T16:05:29.694904Z"
    }
   },
   "id": "83c66070ab9a823a"
  },
  {
   "cell_type": "code",
   "execution_count": 6,
   "outputs": [
    {
     "data": {
      "text/plain": "array([[100.    ,   0.7155,   0.7145, ...,   0.    ,   0.    ,   0.    ],\n       [  0.7155, 100.    ,   0.965 , ...,   0.    ,   0.    ,   0.    ],\n       [  0.7145,   0.965 , 100.    , ...,   0.    ,   0.    ,   0.    ],\n       ...,\n       [  0.    ,   0.    ,   0.    , ..., 100.    ,   0.    ,   0.    ],\n       [  0.    ,   0.    ,   0.    , ...,   0.    , 100.    ,   0.    ],\n       [  0.    ,   0.    ,   0.    , ...,   0.    ,   0.    , 100.    ]])"
     },
     "execution_count": 6,
     "metadata": {},
     "output_type": "execute_result"
    }
   ],
   "source": [
    "# distance_matrix"
   ],
   "metadata": {
    "collapsed": false,
    "ExecuteTime": {
     "end_time": "2025-01-18T16:05:51.043438Z",
     "start_time": "2025-01-18T16:05:51.040275Z"
    }
   },
   "id": "e0a59548afd4ddeb"
  },
  {
   "cell_type": "code",
   "execution_count": 7,
   "outputs": [],
   "source": [
    "# with open('distance_matrix_mean.npy', 'wb') as f:\n",
    "#     np.save(f, distance_matrix)\n"
   ],
   "metadata": {
    "collapsed": false,
    "ExecuteTime": {
     "end_time": "2025-01-18T16:06:04.863985Z",
     "start_time": "2025-01-18T16:06:01.987576Z"
    }
   },
   "id": "4eca9a8e8d20236c"
  },
  {
   "cell_type": "code",
   "execution_count": 9,
   "outputs": [],
   "source": [
    "import numpy as np\n",
    "\n",
    "distance_matrix = np.load(\"distance_matrix_mean.npy\")"
   ],
   "metadata": {
    "collapsed": false,
    "ExecuteTime": {
     "end_time": "2025-01-18T16:06:44.974524Z",
     "start_time": "2025-01-18T16:06:42.484320Z"
    }
   },
   "id": "ea428a7d41c8eb1"
  },
  {
   "cell_type": "code",
   "execution_count": null,
   "outputs": [
    {
     "name": "stderr",
     "output_type": "stream",
     "text": [
      "/Users/salihtalhaakgun/miniconda3/envs/thesis/lib/python3.10/site-packages/sklearn/manifold/_mds.py:298: FutureWarning: The default value of `normalized_stress` will change to `'auto'` in version 1.4. To suppress this warning, manually set the value of `normalized_stress`.\n",
      "  warnings.warn(\n"
     ]
    }
   ],
   "source": [
    "# from sklearn.manifold import MDS\n",
    "# \n",
    "# mds = MDS(n_components=2, dissimilarity=\"precomputed\")\n",
    "# feature_matrix = mds.fit_transform(distance_matrix)"
   ],
   "metadata": {
    "collapsed": false,
    "is_executing": true,
    "ExecuteTime": {
     "start_time": "2025-01-14T17:38:11.573718Z"
    }
   },
   "id": "d7a960f739aa3ba7"
  },
  {
   "cell_type": "code",
   "execution_count": 1,
   "outputs": [
    {
     "ename": "NameError",
     "evalue": "name 'distance_matrix' is not defined",
     "output_type": "error",
     "traceback": [
      "\u001B[0;31m---------------------------------------------------------------------------\u001B[0m",
      "\u001B[0;31mNameError\u001B[0m                                 Traceback (most recent call last)",
      "Cell \u001B[0;32mIn[1], line 1\u001B[0m\n\u001B[0;32m----> 1\u001B[0m \u001B[43mdistance_matrix\u001B[49m\n",
      "\u001B[0;31mNameError\u001B[0m: name 'distance_matrix' is not defined"
     ]
    }
   ],
   "source": [
    "distance_matrix"
   ],
   "metadata": {
    "collapsed": false,
    "ExecuteTime": {
     "end_time": "2025-01-18T16:04:58.964680Z",
     "start_time": "2025-01-18T16:04:58.758892Z"
    }
   },
   "id": "d60ffc8cedc19b7f"
  },
  {
   "cell_type": "code",
   "execution_count": null,
   "outputs": [],
   "source": [
    "from .utils import load_labels\n",
    "\n",
    "labels = load_labels()"
   ],
   "metadata": {
    "collapsed": false,
    "is_executing": true
   },
   "id": "b74c1d709f9ca07b"
  },
  {
   "cell_type": "code",
   "execution_count": null,
   "outputs": [],
   "source": [
    "from sklearn.discriminant_analysis import LinearDiscriminantAnalysis\n",
    "\n",
    "lda = LinearDiscriminantAnalysis()\n",
    "lda_transformed = lda.fit_transform(feature_matrix, labels)"
   ],
   "metadata": {
    "collapsed": false,
    "is_executing": true
   },
   "id": "de6b911fad5d9027"
  },
  {
   "cell_type": "code",
   "execution_count": null,
   "outputs": [],
   "source": [
    "import matplotlib.pyplot as plt\n",
    "\n",
    "plt.scatter(lda_transformed[:, 0], lda_transformed[:, 1], c=labels, cmap='viridis')\n",
    "plt.colorbar()\n",
    "plt.title(\"LDA on Distance Matrix\")\n",
    "plt.show()"
   ],
   "metadata": {
    "collapsed": false,
    "is_executing": true
   },
   "id": "d51845c70f30c331"
  },
  {
   "cell_type": "code",
   "execution_count": null,
   "outputs": [],
   "source": [],
   "metadata": {
    "collapsed": false
   },
   "id": "e496dcbd29340a4b"
  }
 ],
 "metadata": {
  "kernelspec": {
   "display_name": "Python 3",
   "language": "python",
   "name": "python3"
  },
  "language_info": {
   "codemirror_mode": {
    "name": "ipython",
    "version": 2
   },
   "file_extension": ".py",
   "mimetype": "text/x-python",
   "name": "python",
   "nbconvert_exporter": "python",
   "pygments_lexer": "ipython2",
   "version": "2.7.6"
  }
 },
 "nbformat": 4,
 "nbformat_minor": 5
}
