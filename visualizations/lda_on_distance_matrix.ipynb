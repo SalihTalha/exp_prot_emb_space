{
 "cells": [
  {
   "cell_type": "code",
   "execution_count": 3,
   "id": "initial_id",
   "metadata": {
    "collapsed": true,
    "ExecuteTime": {
     "end_time": "2025-01-18T16:05:24.650449Z",
     "start_time": "2025-01-18T16:05:22.217453Z"
    }
   },
   "outputs": [],
   "source": [
    "# import numpy as np\n",
    "# \n",
    "# # Load the distance matrix\n",
    "# distance_matrix = np.load(\"identity_matrix_mmseq2.npy\")"
   ]
  },
  {
   "cell_type": "code",
   "execution_count": 4,
   "outputs": [
    {
     "data": {
      "text/plain": "array([[100.   ,   0.698,   0.591, ...,   0.   ,   0.   ,   0.   ],\n       [  0.71 , 100.   ,   0.64 , ...,   0.   ,   0.   ,   0.   ],\n       [  0.605,   0.635, 100.   , ...,   0.   ,   0.   ,   0.   ],\n       ...,\n       [  0.   ,   0.   ,   0.   , ..., 100.   ,   0.583,   0.578],\n       [  0.   ,   0.   ,   0.   , ...,   0.58 , 100.   ,   0.923],\n       [  0.   ,   0.   ,   0.   , ...,   0.572,   0.92 , 100.   ]])"
     },
     "execution_count": 4,
     "metadata": {},
     "output_type": "execute_result"
    }
   ],
   "source": [
    "# distance_matrix[500:600, 500:600]"
   ],
   "metadata": {
    "collapsed": false,
    "ExecuteTime": {
     "end_time": "2025-01-18T16:05:27.174718Z",
     "start_time": "2025-01-18T16:05:27.144417Z"
    }
   },
   "id": "859b7954eb96abb0"
  },
  {
   "cell_type": "code",
   "execution_count": 5,
   "outputs": [],
   "source": [
    "# distance_matrix = (distance_matrix + distance_matrix.T) / 2"
   ],
   "metadata": {
    "collapsed": false,
    "ExecuteTime": {
     "end_time": "2025-01-18T16:05:40.801125Z",
     "start_time": "2025-01-18T16:05:29.694904Z"
    }
   },
   "id": "83c66070ab9a823a"
  },
  {
   "cell_type": "code",
   "execution_count": 6,
   "outputs": [
    {
     "data": {
      "text/plain": "array([[100.    ,   0.7155,   0.7145, ...,   0.    ,   0.    ,   0.    ],\n       [  0.7155, 100.    ,   0.965 , ...,   0.    ,   0.    ,   0.    ],\n       [  0.7145,   0.965 , 100.    , ...,   0.    ,   0.    ,   0.    ],\n       ...,\n       [  0.    ,   0.    ,   0.    , ..., 100.    ,   0.    ,   0.    ],\n       [  0.    ,   0.    ,   0.    , ...,   0.    , 100.    ,   0.    ],\n       [  0.    ,   0.    ,   0.    , ...,   0.    ,   0.    , 100.    ]])"
     },
     "execution_count": 6,
     "metadata": {},
     "output_type": "execute_result"
    }
   ],
   "source": [
    "# distance_matrix"
   ],
   "metadata": {
    "collapsed": false,
    "ExecuteTime": {
     "end_time": "2025-01-18T16:05:51.043438Z",
     "start_time": "2025-01-18T16:05:51.040275Z"
    }
   },
   "id": "e0a59548afd4ddeb"
  },
  {
   "cell_type": "code",
   "execution_count": 7,
   "outputs": [],
   "source": [
    "# with open('distance_matrix_mean.npy', 'wb') as f:\n",
    "#     np.save(f, distance_matrix)\n"
   ],
   "metadata": {
    "collapsed": false,
    "ExecuteTime": {
     "end_time": "2025-01-18T16:06:04.863985Z",
     "start_time": "2025-01-18T16:06:01.987576Z"
    }
   },
   "id": "4eca9a8e8d20236c"
  },
  {
   "cell_type": "code",
   "execution_count": 8,
   "outputs": [],
   "source": [
    "import numpy as np\n",
    "\n",
    "distance_matrix = np.load(\"distance_matrix_mean.npy\")"
   ],
   "metadata": {
    "collapsed": false,
    "ExecuteTime": {
     "end_time": "2025-01-24T15:46:49.352516Z",
     "start_time": "2025-01-24T15:46:46.381559Z"
    }
   },
   "id": "ea428a7d41c8eb1"
  },
  {
   "cell_type": "code",
   "execution_count": 9,
   "outputs": [],
   "source": [
    "# from sklearn.manifold import MDS\n",
    "# \n",
    "# mds = MDS(n_components=2, dissimilarity=\"precomputed\")\n",
    "# feature_matrix = mds.fit_transform(distance_matrix)"
   ],
   "metadata": {
    "collapsed": false,
    "ExecuteTime": {
     "end_time": "2025-01-24T15:46:49.356531Z",
     "start_time": "2025-01-24T15:46:49.354672Z"
    }
   },
   "id": "d7a960f739aa3ba7"
  },
  {
   "cell_type": "code",
   "execution_count": 10,
   "outputs": [],
   "source": [
    "distance_matrix = (distance_matrix - 100) * -1 "
   ],
   "metadata": {
    "collapsed": false,
    "ExecuteTime": {
     "end_time": "2025-01-24T15:46:56.045581Z",
     "start_time": "2025-01-24T15:46:49.357774Z"
    }
   },
   "id": "d60ffc8cedc19b7f"
  },
  {
   "cell_type": "code",
   "execution_count": 11,
   "outputs": [],
   "source": [
    "distance_matrix += .0000001"
   ],
   "metadata": {
    "collapsed": false,
    "ExecuteTime": {
     "end_time": "2025-01-24T15:46:58.593947Z",
     "start_time": "2025-01-24T15:46:56.046703Z"
    }
   },
   "id": "5ad1e438a2faa675"
  },
  {
   "cell_type": "code",
   "execution_count": 12,
   "outputs": [
    {
     "data": {
      "text/plain": "(36900, 36900)"
     },
     "execution_count": 12,
     "metadata": {},
     "output_type": "execute_result"
    }
   ],
   "source": [
    "distance_matrix.shape"
   ],
   "metadata": {
    "collapsed": false,
    "ExecuteTime": {
     "end_time": "2025-01-24T15:46:58.598142Z",
     "start_time": "2025-01-24T15:46:58.594492Z"
    }
   },
   "id": "156e69d5591bd2d"
  },
  {
   "cell_type": "code",
   "execution_count": 13,
   "outputs": [],
   "source": [
    "distance_matrix = distance_matrix / 100"
   ],
   "metadata": {
    "collapsed": false,
    "ExecuteTime": {
     "end_time": "2025-01-24T15:47:02.789373Z",
     "start_time": "2025-01-24T15:46:58.597636Z"
    }
   },
   "id": "27803d3c298e45bc"
  },
  {
   "cell_type": "code",
   "execution_count": 14,
   "outputs": [
    {
     "data": {
      "text/plain": "array([[1.00000000e-09, 9.92845001e-01, 9.92855001e-01, ...,\n        1.00000000e+00, 1.00000000e+00, 1.00000000e+00],\n       [9.92845001e-01, 1.00000000e-09, 9.90350001e-01, ...,\n        1.00000000e+00, 1.00000000e+00, 1.00000000e+00],\n       [9.92855001e-01, 9.90350001e-01, 1.00000000e-09, ...,\n        1.00000000e+00, 1.00000000e+00, 1.00000000e+00],\n       ...,\n       [1.00000000e+00, 1.00000000e+00, 1.00000000e+00, ...,\n        1.00000000e-09, 1.00000000e+00, 1.00000000e+00],\n       [1.00000000e+00, 1.00000000e+00, 1.00000000e+00, ...,\n        1.00000000e+00, 1.00000000e-09, 1.00000000e+00],\n       [1.00000000e+00, 1.00000000e+00, 1.00000000e+00, ...,\n        1.00000000e+00, 1.00000000e+00, 1.00000000e-09]])"
     },
     "execution_count": 14,
     "metadata": {},
     "output_type": "execute_result"
    }
   ],
   "source": [
    "distance_matrix"
   ],
   "metadata": {
    "collapsed": false,
    "ExecuteTime": {
     "end_time": "2025-01-24T15:47:02.795730Z",
     "start_time": "2025-01-24T15:47:02.788080Z"
    }
   },
   "id": "16a7e286795111ef"
  },
  {
   "cell_type": "code",
   "execution_count": 15,
   "outputs": [],
   "source": [
    "import pandas as pd\n",
    "\n",
    "labels = pd.read_csv(\"./../labels_sf.csv\")"
   ],
   "metadata": {
    "collapsed": false,
    "ExecuteTime": {
     "end_time": "2025-01-24T15:47:03.291940Z",
     "start_time": "2025-01-24T15:47:02.797847Z"
    }
   },
   "id": "b74c1d709f9ca07b"
  },
  {
   "cell_type": "code",
   "execution_count": null,
   "outputs": [
    {
     "name": "stderr",
     "output_type": "stream",
     "text": [
      "/Users/salihtalhaakgun/miniconda3/envs/thesis/lib/python3.10/site-packages/sklearn/manifold/_mds.py:298: FutureWarning: The default value of `normalized_stress` will change to `'auto'` in version 1.4. To suppress this warning, manually set the value of `normalized_stress`.\n",
      "  warnings.warn(\n"
     ]
    }
   ],
   "source": [
    "import numpy as np\n",
    "from sklearn.manifold import MDS\n",
    "from sklearn.decomposition import LatentDirichletAllocation\n",
    "from sklearn.preprocessing import MinMaxScaler\n",
    "\n",
    "# Step 1: Define a sample distance matrix\n",
    "# Step 2: Apply Multidimensional Scaling (MDS)\n",
    "# metric -> Must be false, while square distance d1 + d2 != d3\n",
    "mds = MDS(n_components=2, dissimilarity='precomputed', metric=False, random_state=42)\n",
    "reduced_data = mds.fit_transform(distance_matrix)\n",
    "print(reduced_data.shape)\n",
    "\n",
    "# Step 3: Transform into a document-term matrix\n",
    "# Scale the data to ensure values are non-negative\n",
    "scaler = MinMaxScaler()\n",
    "scaled_data = scaler.fit_transform(reduced_data)\n",
    "\n",
    "# Convert to an integer-based document-term matrix\n",
    "# Simulate a term frequency matrix (non-negative integer values)\n",
    "doc_term_matrix = (scaled_data * 100).astype(int)\n",
    "\n",
    "# Step 4: Apply Latent Dirichlet Allocation (LDA)\n",
    "lda = LatentDirichletAllocation(n_components=2, random_state=42)\n",
    "lda.fit(doc_term_matrix)\n",
    "\n",
    "# Step 5: Get topics and components\n",
    "topics = lda.components_\n",
    "doc_topic_distribution = lda.transform(doc_term_matrix)\n",
    "\n",
    "print(\"Topics (word distributions):\")\n",
    "print(topics)\n",
    "\n",
    "print(\"\\nDocument-topic distributions:\")\n",
    "print(doc_topic_distribution)\n"
   ],
   "metadata": {
    "collapsed": false,
    "is_executing": true,
    "ExecuteTime": {
     "start_time": "2025-01-24T15:47:03.293341Z"
    }
   },
   "id": "46552b053b6bea07"
  },
  {
   "cell_type": "code",
   "execution_count": null,
   "outputs": [],
   "source": [
    "import matplotlib.pyplot as plt\n",
    "\n",
    "plt.scatter(lda_transformed[:, 0], lda_transformed[:, 1], c=labels, cmap='viridis')\n",
    "plt.colorbar()\n",
    "plt.title(\"LDA on Distance Matrix\")\n",
    "plt.show()"
   ],
   "metadata": {
    "collapsed": false,
    "ExecuteTime": {
     "start_time": "2025-01-24T15:12:07.747063Z"
    }
   },
   "id": "d51845c70f30c331"
  },
  {
   "cell_type": "code",
   "execution_count": null,
   "outputs": [],
   "source": [],
   "metadata": {
    "collapsed": false
   },
   "id": "df6c5586eb0528ba"
  },
  {
   "cell_type": "code",
   "execution_count": 7,
   "outputs": [],
   "source": [
    "import numpy as np\n",
    "from scipy.cluster.hierarchy import linkage, fcluster\n",
    "from scipy.spatial.distance import squareform\n",
    "\n",
    "# Suppose M is your distance matrix (n x n)\n",
    "M = distance_matrix  # load or define your distance matrix\n",
    "labels_sf = labels[\"SF\"]\n",
    "\n",
    "# SciPy linkage expects condensed distance matrix:\n",
    "condensed_dist = squareform(M, checks=False)\n",
    "\n",
    "# Perform hierarchical clustering (e.g., Ward's method - though strictly it expects Euclidean distances)\n",
    "Z = linkage(condensed_dist, method='average')  # or 'complete', 'single', etc.\n",
    "\n",
    "# Cut the dendrogram to get a specific number of clusters\n",
    "n_clusters = 3\n",
    "cluster_labels = fcluster(Z, n_clusters, criterion='maxclust')\n"
   ],
   "metadata": {
    "collapsed": false,
    "ExecuteTime": {
     "end_time": "2025-01-19T16:11:39.391887Z",
     "start_time": "2025-01-19T16:11:29.574231Z"
    }
   },
   "id": "50fca0830b10bdd6"
  },
  {
   "cell_type": "code",
   "execution_count": 8,
   "outputs": [
    {
     "data": {
      "text/plain": "array([3, 3, 3, ..., 3, 3, 3], dtype=int32)"
     },
     "execution_count": 8,
     "metadata": {},
     "output_type": "execute_result"
    }
   ],
   "source": [
    "cluster_labels"
   ],
   "metadata": {
    "collapsed": false,
    "ExecuteTime": {
     "end_time": "2025-01-19T16:11:56.809454Z",
     "start_time": "2025-01-19T16:11:56.803322Z"
    }
   },
   "id": "302706488bdb13d5"
  },
  {
   "cell_type": "code",
   "execution_count": null,
   "outputs": [],
   "source": [],
   "metadata": {
    "collapsed": false
   },
   "id": "ba677755a6dd1bf4"
  },
  {
   "cell_type": "code",
   "execution_count": 1,
   "outputs": [
    {
     "ename": "NameError",
     "evalue": "name 'distance_matrix' is not defined",
     "output_type": "error",
     "traceback": [
      "\u001B[0;31m---------------------------------------------------------------------------\u001B[0m",
      "\u001B[0;31mNameError\u001B[0m                                 Traceback (most recent call last)",
      "Cell \u001B[0;32mIn[1], line 5\u001B[0m\n\u001B[1;32m      3\u001B[0m \u001B[38;5;66;03m# Use MDS to get a 2D embedding from your distance matrix\u001B[39;00m\n\u001B[1;32m      4\u001B[0m mds \u001B[38;5;241m=\u001B[39m MDS(n_components\u001B[38;5;241m=\u001B[39m\u001B[38;5;241m2\u001B[39m, dissimilarity\u001B[38;5;241m=\u001B[39m\u001B[38;5;124m'\u001B[39m\u001B[38;5;124mprecomputed\u001B[39m\u001B[38;5;124m'\u001B[39m, random_state\u001B[38;5;241m=\u001B[39m\u001B[38;5;241m42\u001B[39m)\n\u001B[0;32m----> 5\u001B[0m X_2d \u001B[38;5;241m=\u001B[39m mds\u001B[38;5;241m.\u001B[39mfit_transform(\u001B[43mdistance_matrix\u001B[49m)\n",
      "\u001B[0;31mNameError\u001B[0m: name 'distance_matrix' is not defined"
     ]
    }
   ],
   "source": [
    "from sklearn.manifold import MDS\n",
    "\n",
    "# Use MDS to get a 2D embedding from your distance matrix\n",
    "mds = MDS(n_components=2, dissimilarity='precomputed', random_state=42)\n",
    "X_2d = mds.fit_transform(distance_matrix)  # X_2d will be shape (n, 2)\n"
   ],
   "metadata": {
    "collapsed": false,
    "ExecuteTime": {
     "end_time": "2025-01-24T14:43:50.060082Z",
     "start_time": "2025-01-24T14:43:49.084166Z"
    }
   },
   "id": "e496dcbd29340a4b"
  },
  {
   "cell_type": "code",
   "execution_count": null,
   "outputs": [],
   "source": [],
   "metadata": {
    "collapsed": false
   },
   "id": "389d5c5b1267495e"
  },
  {
   "cell_type": "code",
   "execution_count": null,
   "outputs": [],
   "source": [],
   "metadata": {
    "collapsed": false
   },
   "id": "1f67bcfe83a81477"
  },
  {
   "cell_type": "code",
   "execution_count": 10,
   "outputs": [],
   "source": [
    "def intrinsic_dim_2nn_from_dist_matrix(D):\n",
    "    \"\"\"\n",
    "    Compute the local 2-Nearest-Neighbors (2NN) intrinsic dimensionality\n",
    "    for each point, given a distance matrix D.\n",
    "    \n",
    "    Parameters\n",
    "    ----------\n",
    "    D : ndarray of shape (n_samples, n_samples)\n",
    "        Distance matrix where D[i, j] is the distance from point i to point j.\n",
    "        We expect D[i, i] = 0 (distance to itself).\n",
    "    \n",
    "    Returns\n",
    "    -------\n",
    "    local_id : ndarray of shape (n_samples,)\n",
    "        The 2NN intrinsic dimension estimates for each sample.\n",
    "    \"\"\"\n",
    "    n = D.shape[0]\n",
    "    local_id = np.zeros(n, dtype=float)\n",
    "\n",
    "    for i in range(n):\n",
    "        # Extract distances from point i to others\n",
    "        # Ignore the diagonal (distance to itself = 0), we don't consider that a neighbor.\n",
    "        row = D[i].copy()\n",
    "        row[i] = np.inf  # So it doesn't get chosen as a \"neighbor\"\n",
    "\n",
    "        # Sort distances in ascending order\n",
    "        sorted_dists = np.sort(row)\n",
    "        \n",
    "        # The 1st neighbor distance (r1) is the smallest non-diagonal distance\n",
    "        r1 = sorted_dists[0]\n",
    "        # The 2nd neighbor distance (r2) is the second-smallest\n",
    "        r2 = sorted_dists[1]\n",
    "\n",
    "        # Compute the 2NN local ID = ln(2) / ln(r2 / r1)\n",
    "        # Watch out for numerical issues: 0 distances, identical distances, etc.\n",
    "        if r1 <= 0 or r2 <= 0 or r2 == r1:\n",
    "            local_id[i] = np.nan\n",
    "        else:\n",
    "            local_id[i] = np.log(2.0) / np.log(r2 / r1)\n",
    "    \n",
    "    return local_id\n"
   ],
   "metadata": {
    "collapsed": false,
    "ExecuteTime": {
     "end_time": "2025-01-19T17:15:13.503651Z",
     "start_time": "2025-01-19T17:15:13.496430Z"
    }
   },
   "id": "1e5e05f63762d846"
  },
  {
   "cell_type": "code",
   "execution_count": 12,
   "outputs": [
    {
     "data": {
      "text/plain": "array([197.54674378,   0.33079702,   0.33024402, ...,          nan,\n                nan,          nan])"
     },
     "execution_count": 12,
     "metadata": {},
     "output_type": "execute_result"
    }
   ],
   "source": [
    "intrinsic_dim_2nn_from_dist_matrix((distance_matrix - 1) * -1)"
   ],
   "metadata": {
    "collapsed": false,
    "ExecuteTime": {
     "end_time": "2025-01-19T17:16:47.076352Z",
     "start_time": "2025-01-19T17:16:21.828836Z"
    }
   },
   "id": "b18c20f2b5ec5c77"
  },
  {
   "cell_type": "code",
   "execution_count": null,
   "outputs": [],
   "source": [],
   "metadata": {
    "collapsed": false
   },
   "id": "bff99968bdc1cfba"
  },
  {
   "cell_type": "code",
   "execution_count": null,
   "outputs": [],
   "source": [],
   "metadata": {
    "collapsed": false
   },
   "id": "204fc76dfaa6b335"
  },
  {
   "cell_type": "code",
   "execution_count": null,
   "outputs": [],
   "source": [],
   "metadata": {
    "collapsed": false
   },
   "id": "30b1793540ad2afd"
  },
  {
   "cell_type": "code",
   "execution_count": null,
   "outputs": [],
   "source": [],
   "metadata": {
    "collapsed": false
   },
   "id": "42d1943a9942ea20"
  }
 ],
 "metadata": {
  "kernelspec": {
   "display_name": "Python 3",
   "language": "python",
   "name": "python3"
  },
  "language_info": {
   "codemirror_mode": {
    "name": "ipython",
    "version": 2
   },
   "file_extension": ".py",
   "mimetype": "text/x-python",
   "name": "python",
   "nbconvert_exporter": "python",
   "pygments_lexer": "ipython2",
   "version": "2.7.6"
  }
 },
 "nbformat": 4,
 "nbformat_minor": 5
}
