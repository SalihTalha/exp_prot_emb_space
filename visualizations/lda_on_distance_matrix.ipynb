{
 "cells": [
  {
   "cell_type": "code",
   "execution_count": 3,
   "id": "initial_id",
   "metadata": {
    "collapsed": true,
    "ExecuteTime": {
     "end_time": "2025-01-18T16:05:24.650449Z",
     "start_time": "2025-01-18T16:05:22.217453Z"
    }
   },
   "outputs": [],
   "source": [
    "# import numpy as np\n",
    "# \n",
    "# # Load the distance matrix\n",
    "# distance_matrix = np.load(\"identity_matrix_mmseq2.npy\")"
   ]
  },
  {
   "cell_type": "code",
   "execution_count": 4,
   "outputs": [
    {
     "data": {
      "text/plain": "array([[100.   ,   0.698,   0.591, ...,   0.   ,   0.   ,   0.   ],\n       [  0.71 , 100.   ,   0.64 , ...,   0.   ,   0.   ,   0.   ],\n       [  0.605,   0.635, 100.   , ...,   0.   ,   0.   ,   0.   ],\n       ...,\n       [  0.   ,   0.   ,   0.   , ..., 100.   ,   0.583,   0.578],\n       [  0.   ,   0.   ,   0.   , ...,   0.58 , 100.   ,   0.923],\n       [  0.   ,   0.   ,   0.   , ...,   0.572,   0.92 , 100.   ]])"
     },
     "execution_count": 4,
     "metadata": {},
     "output_type": "execute_result"
    }
   ],
   "source": [
    "# distance_matrix[500:600, 500:600]"
   ],
   "metadata": {
    "collapsed": false,
    "ExecuteTime": {
     "end_time": "2025-01-18T16:05:27.174718Z",
     "start_time": "2025-01-18T16:05:27.144417Z"
    }
   },
   "id": "859b7954eb96abb0"
  },
  {
   "cell_type": "code",
   "execution_count": 5,
   "outputs": [],
   "source": [
    "# distance_matrix = (distance_matrix + distance_matrix.T) / 2"
   ],
   "metadata": {
    "collapsed": false,
    "ExecuteTime": {
     "end_time": "2025-01-18T16:05:40.801125Z",
     "start_time": "2025-01-18T16:05:29.694904Z"
    }
   },
   "id": "83c66070ab9a823a"
  },
  {
   "cell_type": "code",
   "execution_count": 6,
   "outputs": [
    {
     "data": {
      "text/plain": "array([[100.    ,   0.7155,   0.7145, ...,   0.    ,   0.    ,   0.    ],\n       [  0.7155, 100.    ,   0.965 , ...,   0.    ,   0.    ,   0.    ],\n       [  0.7145,   0.965 , 100.    , ...,   0.    ,   0.    ,   0.    ],\n       ...,\n       [  0.    ,   0.    ,   0.    , ..., 100.    ,   0.    ,   0.    ],\n       [  0.    ,   0.    ,   0.    , ...,   0.    , 100.    ,   0.    ],\n       [  0.    ,   0.    ,   0.    , ...,   0.    ,   0.    , 100.    ]])"
     },
     "execution_count": 6,
     "metadata": {},
     "output_type": "execute_result"
    }
   ],
   "source": [
    "# distance_matrix"
   ],
   "metadata": {
    "collapsed": false,
    "ExecuteTime": {
     "end_time": "2025-01-18T16:05:51.043438Z",
     "start_time": "2025-01-18T16:05:51.040275Z"
    }
   },
   "id": "e0a59548afd4ddeb"
  },
  {
   "cell_type": "code",
   "execution_count": 7,
   "outputs": [],
   "source": [
    "# with open('distance_matrix_mean.npy', 'wb') as f:\n",
    "#     np.save(f, distance_matrix)\n"
   ],
   "metadata": {
    "collapsed": false,
    "ExecuteTime": {
     "end_time": "2025-01-18T16:06:04.863985Z",
     "start_time": "2025-01-18T16:06:01.987576Z"
    }
   },
   "id": "4eca9a8e8d20236c"
  },
  {
   "cell_type": "code",
   "execution_count": 1,
   "outputs": [],
   "source": [
    "import numpy as np\n",
    "\n",
    "distance_matrix = np.load(\"distance_matrix_mean.npy\")"
   ],
   "metadata": {
    "collapsed": false,
    "ExecuteTime": {
     "end_time": "2025-01-19T16:01:53.983670Z",
     "start_time": "2025-01-19T16:01:51.345149Z"
    }
   },
   "id": "ea428a7d41c8eb1"
  },
  {
   "cell_type": "code",
   "execution_count": null,
   "outputs": [
    {
     "name": "stderr",
     "output_type": "stream",
     "text": [
      "/Users/salihtalhaakgun/miniconda3/envs/thesis/lib/python3.10/site-packages/sklearn/manifold/_mds.py:298: FutureWarning: The default value of `normalized_stress` will change to `'auto'` in version 1.4. To suppress this warning, manually set the value of `normalized_stress`.\n",
      "  warnings.warn(\n"
     ]
    }
   ],
   "source": [
    "# from sklearn.manifold import MDS\n",
    "# \n",
    "# mds = MDS(n_components=2, dissimilarity=\"precomputed\")\n",
    "# feature_matrix = mds.fit_transform(distance_matrix)"
   ],
   "metadata": {
    "collapsed": false,
    "is_executing": true,
    "ExecuteTime": {
     "start_time": "2025-01-14T17:38:11.573718Z"
    }
   },
   "id": "d7a960f739aa3ba7"
  },
  {
   "cell_type": "code",
   "execution_count": 2,
   "outputs": [
    {
     "data": {
      "text/plain": "array([[100.    ,   0.7155,   0.7145, ...,   0.    ,   0.    ,   0.    ],\n       [  0.7155, 100.    ,   0.965 , ...,   0.    ,   0.    ,   0.    ],\n       [  0.7145,   0.965 , 100.    , ...,   0.    ,   0.    ,   0.    ],\n       ...,\n       [  0.    ,   0.    ,   0.    , ..., 100.    ,   0.    ,   0.    ],\n       [  0.    ,   0.    ,   0.    , ...,   0.    , 100.    ,   0.    ],\n       [  0.    ,   0.    ,   0.    , ...,   0.    ,   0.    , 100.    ]])"
     },
     "execution_count": 2,
     "metadata": {},
     "output_type": "execute_result"
    }
   ],
   "source": [
    "distance_matrix"
   ],
   "metadata": {
    "collapsed": false,
    "ExecuteTime": {
     "end_time": "2025-01-19T16:01:56.389642Z",
     "start_time": "2025-01-19T16:01:56.373885Z"
    }
   },
   "id": "d60ffc8cedc19b7f"
  },
  {
   "cell_type": "code",
   "execution_count": 5,
   "outputs": [],
   "source": [
    "import pandas as pd\n",
    "\n",
    "labels = pd.read_csv(\"./../labels_sf.csv\")"
   ],
   "metadata": {
    "collapsed": false,
    "ExecuteTime": {
     "end_time": "2025-01-19T16:02:31.138631Z",
     "start_time": "2025-01-19T16:02:31.118902Z"
    }
   },
   "id": "b74c1d709f9ca07b"
  },
  {
   "cell_type": "code",
   "execution_count": null,
   "outputs": [],
   "source": [
    "from sklearn.discriminant_analysis import LinearDiscriminantAnalysis\n",
    "\n",
    "lda = LinearDiscriminantAnalysis()\n",
    "lda_transformed = lda.fit_transform(feature_matrix, labels)"
   ],
   "metadata": {
    "collapsed": false,
    "is_executing": true
   },
   "id": "de6b911fad5d9027"
  },
  {
   "cell_type": "code",
   "execution_count": null,
   "outputs": [],
   "source": [
    "import matplotlib.pyplot as plt\n",
    "\n",
    "plt.scatter(lda_transformed[:, 0], lda_transformed[:, 1], c=labels, cmap='viridis')\n",
    "plt.colorbar()\n",
    "plt.title(\"LDA on Distance Matrix\")\n",
    "plt.show()"
   ],
   "metadata": {
    "collapsed": false,
    "is_executing": true
   },
   "id": "d51845c70f30c331"
  },
  {
   "cell_type": "code",
   "execution_count": null,
   "outputs": [],
   "source": [],
   "metadata": {
    "collapsed": false
   },
   "id": "df6c5586eb0528ba"
  },
  {
   "cell_type": "code",
   "execution_count": 7,
   "outputs": [],
   "source": [
    "import numpy as np\n",
    "from scipy.cluster.hierarchy import linkage, fcluster\n",
    "from scipy.spatial.distance import squareform\n",
    "\n",
    "# Suppose M is your distance matrix (n x n)\n",
    "M = distance_matrix  # load or define your distance matrix\n",
    "labels_sf = labels[\"SF\"]\n",
    "\n",
    "# SciPy linkage expects condensed distance matrix:\n",
    "condensed_dist = squareform(M, checks=False)\n",
    "\n",
    "# Perform hierarchical clustering (e.g., Ward's method - though strictly it expects Euclidean distances)\n",
    "Z = linkage(condensed_dist, method='average')  # or 'complete', 'single', etc.\n",
    "\n",
    "# Cut the dendrogram to get a specific number of clusters\n",
    "n_clusters = 3\n",
    "cluster_labels = fcluster(Z, n_clusters, criterion='maxclust')\n"
   ],
   "metadata": {
    "collapsed": false,
    "ExecuteTime": {
     "end_time": "2025-01-19T16:11:39.391887Z",
     "start_time": "2025-01-19T16:11:29.574231Z"
    }
   },
   "id": "50fca0830b10bdd6"
  },
  {
   "cell_type": "code",
   "execution_count": 8,
   "outputs": [
    {
     "data": {
      "text/plain": "array([3, 3, 3, ..., 3, 3, 3], dtype=int32)"
     },
     "execution_count": 8,
     "metadata": {},
     "output_type": "execute_result"
    }
   ],
   "source": [
    "cluster_labels"
   ],
   "metadata": {
    "collapsed": false,
    "ExecuteTime": {
     "end_time": "2025-01-19T16:11:56.809454Z",
     "start_time": "2025-01-19T16:11:56.803322Z"
    }
   },
   "id": "302706488bdb13d5"
  },
  {
   "cell_type": "code",
   "execution_count": null,
   "outputs": [],
   "source": [],
   "metadata": {
    "collapsed": false
   },
   "id": "ba677755a6dd1bf4"
  },
  {
   "cell_type": "code",
   "execution_count": 6,
   "outputs": [
    {
     "name": "stderr",
     "output_type": "stream",
     "text": [
      "/Users/salihtalhaakgun/miniconda3/envs/thesis/lib/python3.10/site-packages/sklearn/manifold/_mds.py:298: FutureWarning: The default value of `normalized_stress` will change to `'auto'` in version 1.4. To suppress this warning, manually set the value of `normalized_stress`.\n",
      "  warnings.warn(\n"
     ]
    },
    {
     "ename": "KeyboardInterrupt",
     "evalue": "",
     "output_type": "error",
     "traceback": [
      "\u001B[0;31m---------------------------------------------------------------------------\u001B[0m",
      "\u001B[0;31mKeyboardInterrupt\u001B[0m                         Traceback (most recent call last)",
      "Cell \u001B[0;32mIn[6], line 5\u001B[0m\n\u001B[1;32m      3\u001B[0m \u001B[38;5;66;03m# Use MDS to get a 2D embedding from your distance matrix\u001B[39;00m\n\u001B[1;32m      4\u001B[0m mds \u001B[38;5;241m=\u001B[39m MDS(n_components\u001B[38;5;241m=\u001B[39m\u001B[38;5;241m2\u001B[39m, dissimilarity\u001B[38;5;241m=\u001B[39m\u001B[38;5;124m'\u001B[39m\u001B[38;5;124mprecomputed\u001B[39m\u001B[38;5;124m'\u001B[39m, random_state\u001B[38;5;241m=\u001B[39m\u001B[38;5;241m42\u001B[39m)\n\u001B[0;32m----> 5\u001B[0m X_2d \u001B[38;5;241m=\u001B[39m \u001B[43mmds\u001B[49m\u001B[38;5;241;43m.\u001B[39;49m\u001B[43mfit_transform\u001B[49m\u001B[43m(\u001B[49m\u001B[43mdistance_matrix\u001B[49m\u001B[43m)\u001B[49m\n",
      "File \u001B[0;32m~/miniconda3/envs/thesis/lib/python3.10/site-packages/sklearn/base.py:1152\u001B[0m, in \u001B[0;36m_fit_context.<locals>.decorator.<locals>.wrapper\u001B[0;34m(estimator, *args, **kwargs)\u001B[0m\n\u001B[1;32m   1145\u001B[0m     estimator\u001B[38;5;241m.\u001B[39m_validate_params()\n\u001B[1;32m   1147\u001B[0m \u001B[38;5;28;01mwith\u001B[39;00m config_context(\n\u001B[1;32m   1148\u001B[0m     skip_parameter_validation\u001B[38;5;241m=\u001B[39m(\n\u001B[1;32m   1149\u001B[0m         prefer_skip_nested_validation \u001B[38;5;129;01mor\u001B[39;00m global_skip_validation\n\u001B[1;32m   1150\u001B[0m     )\n\u001B[1;32m   1151\u001B[0m ):\n\u001B[0;32m-> 1152\u001B[0m     \u001B[38;5;28;01mreturn\u001B[39;00m \u001B[43mfit_method\u001B[49m\u001B[43m(\u001B[49m\u001B[43mestimator\u001B[49m\u001B[43m,\u001B[49m\u001B[43m \u001B[49m\u001B[38;5;241;43m*\u001B[39;49m\u001B[43margs\u001B[49m\u001B[43m,\u001B[49m\u001B[43m \u001B[49m\u001B[38;5;241;43m*\u001B[39;49m\u001B[38;5;241;43m*\u001B[39;49m\u001B[43mkwargs\u001B[49m\u001B[43m)\u001B[49m\n",
      "File \u001B[0;32m~/miniconda3/envs/thesis/lib/python3.10/site-packages/sklearn/manifold/_mds.py:613\u001B[0m, in \u001B[0;36mMDS.fit_transform\u001B[0;34m(self, X, y, init)\u001B[0m\n\u001B[1;32m    610\u001B[0m \u001B[38;5;28;01melif\u001B[39;00m \u001B[38;5;28mself\u001B[39m\u001B[38;5;241m.\u001B[39mdissimilarity \u001B[38;5;241m==\u001B[39m \u001B[38;5;124m\"\u001B[39m\u001B[38;5;124meuclidean\u001B[39m\u001B[38;5;124m\"\u001B[39m:\n\u001B[1;32m    611\u001B[0m     \u001B[38;5;28mself\u001B[39m\u001B[38;5;241m.\u001B[39mdissimilarity_matrix_ \u001B[38;5;241m=\u001B[39m euclidean_distances(X)\n\u001B[0;32m--> 613\u001B[0m \u001B[38;5;28mself\u001B[39m\u001B[38;5;241m.\u001B[39membedding_, \u001B[38;5;28mself\u001B[39m\u001B[38;5;241m.\u001B[39mstress_, \u001B[38;5;28mself\u001B[39m\u001B[38;5;241m.\u001B[39mn_iter_ \u001B[38;5;241m=\u001B[39m \u001B[43msmacof\u001B[49m\u001B[43m(\u001B[49m\n\u001B[1;32m    614\u001B[0m \u001B[43m    \u001B[49m\u001B[38;5;28;43mself\u001B[39;49m\u001B[38;5;241;43m.\u001B[39;49m\u001B[43mdissimilarity_matrix_\u001B[49m\u001B[43m,\u001B[49m\n\u001B[1;32m    615\u001B[0m \u001B[43m    \u001B[49m\u001B[43mmetric\u001B[49m\u001B[38;5;241;43m=\u001B[39;49m\u001B[38;5;28;43mself\u001B[39;49m\u001B[38;5;241;43m.\u001B[39;49m\u001B[43mmetric\u001B[49m\u001B[43m,\u001B[49m\n\u001B[1;32m    616\u001B[0m \u001B[43m    \u001B[49m\u001B[43mn_components\u001B[49m\u001B[38;5;241;43m=\u001B[39;49m\u001B[38;5;28;43mself\u001B[39;49m\u001B[38;5;241;43m.\u001B[39;49m\u001B[43mn_components\u001B[49m\u001B[43m,\u001B[49m\n\u001B[1;32m    617\u001B[0m \u001B[43m    \u001B[49m\u001B[43minit\u001B[49m\u001B[38;5;241;43m=\u001B[39;49m\u001B[43minit\u001B[49m\u001B[43m,\u001B[49m\n\u001B[1;32m    618\u001B[0m \u001B[43m    \u001B[49m\u001B[43mn_init\u001B[49m\u001B[38;5;241;43m=\u001B[39;49m\u001B[38;5;28;43mself\u001B[39;49m\u001B[38;5;241;43m.\u001B[39;49m\u001B[43mn_init\u001B[49m\u001B[43m,\u001B[49m\n\u001B[1;32m    619\u001B[0m \u001B[43m    \u001B[49m\u001B[43mn_jobs\u001B[49m\u001B[38;5;241;43m=\u001B[39;49m\u001B[38;5;28;43mself\u001B[39;49m\u001B[38;5;241;43m.\u001B[39;49m\u001B[43mn_jobs\u001B[49m\u001B[43m,\u001B[49m\n\u001B[1;32m    620\u001B[0m \u001B[43m    \u001B[49m\u001B[43mmax_iter\u001B[49m\u001B[38;5;241;43m=\u001B[39;49m\u001B[38;5;28;43mself\u001B[39;49m\u001B[38;5;241;43m.\u001B[39;49m\u001B[43mmax_iter\u001B[49m\u001B[43m,\u001B[49m\n\u001B[1;32m    621\u001B[0m \u001B[43m    \u001B[49m\u001B[43mverbose\u001B[49m\u001B[38;5;241;43m=\u001B[39;49m\u001B[38;5;28;43mself\u001B[39;49m\u001B[38;5;241;43m.\u001B[39;49m\u001B[43mverbose\u001B[49m\u001B[43m,\u001B[49m\n\u001B[1;32m    622\u001B[0m \u001B[43m    \u001B[49m\u001B[43meps\u001B[49m\u001B[38;5;241;43m=\u001B[39;49m\u001B[38;5;28;43mself\u001B[39;49m\u001B[38;5;241;43m.\u001B[39;49m\u001B[43meps\u001B[49m\u001B[43m,\u001B[49m\n\u001B[1;32m    623\u001B[0m \u001B[43m    \u001B[49m\u001B[43mrandom_state\u001B[49m\u001B[38;5;241;43m=\u001B[39;49m\u001B[38;5;28;43mself\u001B[39;49m\u001B[38;5;241;43m.\u001B[39;49m\u001B[43mrandom_state\u001B[49m\u001B[43m,\u001B[49m\n\u001B[1;32m    624\u001B[0m \u001B[43m    \u001B[49m\u001B[43mreturn_n_iter\u001B[49m\u001B[38;5;241;43m=\u001B[39;49m\u001B[38;5;28;43;01mTrue\u001B[39;49;00m\u001B[43m,\u001B[49m\n\u001B[1;32m    625\u001B[0m \u001B[43m    \u001B[49m\u001B[43mnormalized_stress\u001B[49m\u001B[38;5;241;43m=\u001B[39;49m\u001B[38;5;28;43mself\u001B[39;49m\u001B[38;5;241;43m.\u001B[39;49m\u001B[43mnormalized_stress\u001B[49m\u001B[43m,\u001B[49m\n\u001B[1;32m    626\u001B[0m \u001B[43m\u001B[49m\u001B[43m)\u001B[49m\n\u001B[1;32m    628\u001B[0m \u001B[38;5;28;01mreturn\u001B[39;00m \u001B[38;5;28mself\u001B[39m\u001B[38;5;241m.\u001B[39membedding_\n",
      "File \u001B[0;32m~/miniconda3/envs/thesis/lib/python3.10/site-packages/sklearn/manifold/_mds.py:329\u001B[0m, in \u001B[0;36msmacof\u001B[0;34m(dissimilarities, metric, n_components, init, n_init, n_jobs, max_iter, verbose, eps, random_state, return_n_iter, normalized_stress)\u001B[0m\n\u001B[1;32m    327\u001B[0m \u001B[38;5;28;01mif\u001B[39;00m effective_n_jobs(n_jobs) \u001B[38;5;241m==\u001B[39m \u001B[38;5;241m1\u001B[39m:\n\u001B[1;32m    328\u001B[0m     \u001B[38;5;28;01mfor\u001B[39;00m it \u001B[38;5;129;01min\u001B[39;00m \u001B[38;5;28mrange\u001B[39m(n_init):\n\u001B[0;32m--> 329\u001B[0m         pos, stress, n_iter_ \u001B[38;5;241m=\u001B[39m \u001B[43m_smacof_single\u001B[49m\u001B[43m(\u001B[49m\n\u001B[1;32m    330\u001B[0m \u001B[43m            \u001B[49m\u001B[43mdissimilarities\u001B[49m\u001B[43m,\u001B[49m\n\u001B[1;32m    331\u001B[0m \u001B[43m            \u001B[49m\u001B[43mmetric\u001B[49m\u001B[38;5;241;43m=\u001B[39;49m\u001B[43mmetric\u001B[49m\u001B[43m,\u001B[49m\n\u001B[1;32m    332\u001B[0m \u001B[43m            \u001B[49m\u001B[43mn_components\u001B[49m\u001B[38;5;241;43m=\u001B[39;49m\u001B[43mn_components\u001B[49m\u001B[43m,\u001B[49m\n\u001B[1;32m    333\u001B[0m \u001B[43m            \u001B[49m\u001B[43minit\u001B[49m\u001B[38;5;241;43m=\u001B[39;49m\u001B[43minit\u001B[49m\u001B[43m,\u001B[49m\n\u001B[1;32m    334\u001B[0m \u001B[43m            \u001B[49m\u001B[43mmax_iter\u001B[49m\u001B[38;5;241;43m=\u001B[39;49m\u001B[43mmax_iter\u001B[49m\u001B[43m,\u001B[49m\n\u001B[1;32m    335\u001B[0m \u001B[43m            \u001B[49m\u001B[43mverbose\u001B[49m\u001B[38;5;241;43m=\u001B[39;49m\u001B[43mverbose\u001B[49m\u001B[43m,\u001B[49m\n\u001B[1;32m    336\u001B[0m \u001B[43m            \u001B[49m\u001B[43meps\u001B[49m\u001B[38;5;241;43m=\u001B[39;49m\u001B[43meps\u001B[49m\u001B[43m,\u001B[49m\n\u001B[1;32m    337\u001B[0m \u001B[43m            \u001B[49m\u001B[43mrandom_state\u001B[49m\u001B[38;5;241;43m=\u001B[39;49m\u001B[43mrandom_state\u001B[49m\u001B[43m,\u001B[49m\n\u001B[1;32m    338\u001B[0m \u001B[43m            \u001B[49m\u001B[43mnormalized_stress\u001B[49m\u001B[38;5;241;43m=\u001B[39;49m\u001B[43mnormalized_stress\u001B[49m\u001B[43m,\u001B[49m\n\u001B[1;32m    339\u001B[0m \u001B[43m        \u001B[49m\u001B[43m)\u001B[49m\n\u001B[1;32m    340\u001B[0m         \u001B[38;5;28;01mif\u001B[39;00m best_stress \u001B[38;5;129;01mis\u001B[39;00m \u001B[38;5;28;01mNone\u001B[39;00m \u001B[38;5;129;01mor\u001B[39;00m stress \u001B[38;5;241m<\u001B[39m best_stress:\n\u001B[1;32m    341\u001B[0m             best_stress \u001B[38;5;241m=\u001B[39m stress\n",
      "File \u001B[0;32m~/miniconda3/envs/thesis/lib/python3.10/site-packages/sklearn/manifold/_mds.py:104\u001B[0m, in \u001B[0;36m_smacof_single\u001B[0;34m(dissimilarities, metric, n_components, init, max_iter, verbose, eps, random_state, normalized_stress)\u001B[0m\n\u001B[1;32m     22\u001B[0m \u001B[38;5;28;01mdef\u001B[39;00m \u001B[38;5;21m_smacof_single\u001B[39m(\n\u001B[1;32m     23\u001B[0m     dissimilarities,\n\u001B[1;32m     24\u001B[0m     metric\u001B[38;5;241m=\u001B[39m\u001B[38;5;28;01mTrue\u001B[39;00m,\n\u001B[0;32m   (...)\u001B[0m\n\u001B[1;32m     31\u001B[0m     normalized_stress\u001B[38;5;241m=\u001B[39m\u001B[38;5;28;01mFalse\u001B[39;00m,\n\u001B[1;32m     32\u001B[0m ):\n\u001B[1;32m     33\u001B[0m \u001B[38;5;250m    \u001B[39m\u001B[38;5;124;03m\"\"\"Computes multidimensional scaling using SMACOF algorithm.\u001B[39;00m\n\u001B[1;32m     34\u001B[0m \n\u001B[1;32m     35\u001B[0m \u001B[38;5;124;03m    Parameters\u001B[39;00m\n\u001B[0;32m   (...)\u001B[0m\n\u001B[1;32m    102\u001B[0m \u001B[38;5;124;03m           Groenen P. Springer Series in Statistics (1997)\u001B[39;00m\n\u001B[1;32m    103\u001B[0m \u001B[38;5;124;03m    \"\"\"\u001B[39;00m\n\u001B[0;32m--> 104\u001B[0m     dissimilarities \u001B[38;5;241m=\u001B[39m \u001B[43mcheck_symmetric\u001B[49m\u001B[43m(\u001B[49m\u001B[43mdissimilarities\u001B[49m\u001B[43m,\u001B[49m\u001B[43m \u001B[49m\u001B[43mraise_exception\u001B[49m\u001B[38;5;241;43m=\u001B[39;49m\u001B[38;5;28;43;01mTrue\u001B[39;49;00m\u001B[43m)\u001B[49m\n\u001B[1;32m    106\u001B[0m     n_samples \u001B[38;5;241m=\u001B[39m dissimilarities\u001B[38;5;241m.\u001B[39mshape[\u001B[38;5;241m0\u001B[39m]\n\u001B[1;32m    107\u001B[0m     random_state \u001B[38;5;241m=\u001B[39m check_random_state(random_state)\n",
      "File \u001B[0;32m~/miniconda3/envs/thesis/lib/python3.10/site-packages/sklearn/utils/validation.py:1344\u001B[0m, in \u001B[0;36mcheck_symmetric\u001B[0;34m(array, tol, raise_warning, raise_exception)\u001B[0m\n\u001B[1;32m   1342\u001B[0m     symmetric \u001B[38;5;241m=\u001B[39m np\u001B[38;5;241m.\u001B[39mall(\u001B[38;5;28mabs\u001B[39m(diff\u001B[38;5;241m.\u001B[39mdata) \u001B[38;5;241m<\u001B[39m tol)\n\u001B[1;32m   1343\u001B[0m \u001B[38;5;28;01melse\u001B[39;00m:\n\u001B[0;32m-> 1344\u001B[0m     symmetric \u001B[38;5;241m=\u001B[39m \u001B[43mnp\u001B[49m\u001B[38;5;241;43m.\u001B[39;49m\u001B[43mallclose\u001B[49m\u001B[43m(\u001B[49m\u001B[43marray\u001B[49m\u001B[43m,\u001B[49m\u001B[43m \u001B[49m\u001B[43marray\u001B[49m\u001B[38;5;241;43m.\u001B[39;49m\u001B[43mT\u001B[49m\u001B[43m,\u001B[49m\u001B[43m \u001B[49m\u001B[43matol\u001B[49m\u001B[38;5;241;43m=\u001B[39;49m\u001B[43mtol\u001B[49m\u001B[43m)\u001B[49m\n\u001B[1;32m   1346\u001B[0m \u001B[38;5;28;01mif\u001B[39;00m \u001B[38;5;129;01mnot\u001B[39;00m symmetric:\n\u001B[1;32m   1347\u001B[0m     \u001B[38;5;28;01mif\u001B[39;00m raise_exception:\n",
      "File \u001B[0;32m~/miniconda3/envs/thesis/lib/python3.10/site-packages/numpy/core/numeric.py:2241\u001B[0m, in \u001B[0;36mallclose\u001B[0;34m(a, b, rtol, atol, equal_nan)\u001B[0m\n\u001B[1;32m   2170\u001B[0m \u001B[38;5;129m@array_function_dispatch\u001B[39m(_allclose_dispatcher)\n\u001B[1;32m   2171\u001B[0m \u001B[38;5;28;01mdef\u001B[39;00m \u001B[38;5;21mallclose\u001B[39m(a, b, rtol\u001B[38;5;241m=\u001B[39m\u001B[38;5;241m1.e-5\u001B[39m, atol\u001B[38;5;241m=\u001B[39m\u001B[38;5;241m1.e-8\u001B[39m, equal_nan\u001B[38;5;241m=\u001B[39m\u001B[38;5;28;01mFalse\u001B[39;00m):\n\u001B[1;32m   2172\u001B[0m \u001B[38;5;250m    \u001B[39m\u001B[38;5;124;03m\"\"\"\u001B[39;00m\n\u001B[1;32m   2173\u001B[0m \u001B[38;5;124;03m    Returns True if two arrays are element-wise equal within a tolerance.\u001B[39;00m\n\u001B[1;32m   2174\u001B[0m \n\u001B[0;32m   (...)\u001B[0m\n\u001B[1;32m   2239\u001B[0m \n\u001B[1;32m   2240\u001B[0m \u001B[38;5;124;03m    \"\"\"\u001B[39;00m\n\u001B[0;32m-> 2241\u001B[0m     res \u001B[38;5;241m=\u001B[39m \u001B[38;5;28mall\u001B[39m(\u001B[43misclose\u001B[49m\u001B[43m(\u001B[49m\u001B[43ma\u001B[49m\u001B[43m,\u001B[49m\u001B[43m \u001B[49m\u001B[43mb\u001B[49m\u001B[43m,\u001B[49m\u001B[43m \u001B[49m\u001B[43mrtol\u001B[49m\u001B[38;5;241;43m=\u001B[39;49m\u001B[43mrtol\u001B[49m\u001B[43m,\u001B[49m\u001B[43m \u001B[49m\u001B[43matol\u001B[49m\u001B[38;5;241;43m=\u001B[39;49m\u001B[43matol\u001B[49m\u001B[43m,\u001B[49m\u001B[43m \u001B[49m\u001B[43mequal_nan\u001B[49m\u001B[38;5;241;43m=\u001B[39;49m\u001B[43mequal_nan\u001B[49m\u001B[43m)\u001B[49m)\n\u001B[1;32m   2242\u001B[0m     \u001B[38;5;28;01mreturn\u001B[39;00m \u001B[38;5;28mbool\u001B[39m(res)\n",
      "File \u001B[0;32m~/miniconda3/envs/thesis/lib/python3.10/site-packages/numpy/core/numeric.py:2351\u001B[0m, in \u001B[0;36misclose\u001B[0;34m(a, b, rtol, atol, equal_nan)\u001B[0m\n\u001B[1;32m   2349\u001B[0m yfin \u001B[38;5;241m=\u001B[39m isfinite(y)\n\u001B[1;32m   2350\u001B[0m \u001B[38;5;28;01mif\u001B[39;00m \u001B[38;5;28mall\u001B[39m(xfin) \u001B[38;5;129;01mand\u001B[39;00m \u001B[38;5;28mall\u001B[39m(yfin):\n\u001B[0;32m-> 2351\u001B[0m     \u001B[38;5;28;01mreturn\u001B[39;00m \u001B[43mwithin_tol\u001B[49m\u001B[43m(\u001B[49m\u001B[43mx\u001B[49m\u001B[43m,\u001B[49m\u001B[43m \u001B[49m\u001B[43my\u001B[49m\u001B[43m,\u001B[49m\u001B[43m \u001B[49m\u001B[43matol\u001B[49m\u001B[43m,\u001B[49m\u001B[43m \u001B[49m\u001B[43mrtol\u001B[49m\u001B[43m)\u001B[49m\n\u001B[1;32m   2352\u001B[0m \u001B[38;5;28;01melse\u001B[39;00m:\n\u001B[1;32m   2353\u001B[0m     finite \u001B[38;5;241m=\u001B[39m xfin \u001B[38;5;241m&\u001B[39m yfin\n",
      "File \u001B[0;32m~/miniconda3/envs/thesis/lib/python3.10/site-packages/numpy/core/numeric.py:2332\u001B[0m, in \u001B[0;36misclose.<locals>.within_tol\u001B[0;34m(x, y, atol, rtol)\u001B[0m\n\u001B[1;32m   2330\u001B[0m \u001B[38;5;28;01mdef\u001B[39;00m \u001B[38;5;21mwithin_tol\u001B[39m(x, y, atol, rtol):\n\u001B[1;32m   2331\u001B[0m     \u001B[38;5;28;01mwith\u001B[39;00m errstate(invalid\u001B[38;5;241m=\u001B[39m\u001B[38;5;124m'\u001B[39m\u001B[38;5;124mignore\u001B[39m\u001B[38;5;124m'\u001B[39m), _no_nep50_warning():\n\u001B[0;32m-> 2332\u001B[0m         \u001B[38;5;28;01mreturn\u001B[39;00m \u001B[43mless_equal\u001B[49m\u001B[43m(\u001B[49m\u001B[38;5;28;43mabs\u001B[39;49m\u001B[43m(\u001B[49m\u001B[43mx\u001B[49m\u001B[38;5;241;43m-\u001B[39;49m\u001B[43my\u001B[49m\u001B[43m)\u001B[49m\u001B[43m,\u001B[49m\u001B[43m \u001B[49m\u001B[43matol\u001B[49m\u001B[43m \u001B[49m\u001B[38;5;241;43m+\u001B[39;49m\u001B[43m \u001B[49m\u001B[43mrtol\u001B[49m\u001B[43m \u001B[49m\u001B[38;5;241;43m*\u001B[39;49m\u001B[43m \u001B[49m\u001B[38;5;28;43mabs\u001B[39;49m\u001B[43m(\u001B[49m\u001B[43my\u001B[49m\u001B[43m)\u001B[49m\u001B[43m)\u001B[49m\n",
      "\u001B[0;31mKeyboardInterrupt\u001B[0m: "
     ]
    }
   ],
   "source": [
    "from sklearn.manifold import MDS\n",
    "\n",
    "# Use MDS to get a 2D embedding from your distance matrix\n",
    "mds = MDS(n_components=2, dissimilarity='precomputed', random_state=42)\n",
    "X_2d = mds.fit_transform(distance_matrix)  # X_2d will be shape (n, 2)\n"
   ],
   "metadata": {
    "collapsed": false,
    "ExecuteTime": {
     "start_time": "2025-01-19T16:09:26.205598Z"
    }
   },
   "id": "e496dcbd29340a4b"
  },
  {
   "cell_type": "code",
   "execution_count": null,
   "outputs": [],
   "source": [],
   "metadata": {
    "collapsed": false
   },
   "id": "389d5c5b1267495e"
  },
  {
   "cell_type": "code",
   "execution_count": null,
   "outputs": [],
   "source": [],
   "metadata": {
    "collapsed": false
   },
   "id": "1f67bcfe83a81477"
  },
  {
   "cell_type": "code",
   "execution_count": 10,
   "outputs": [],
   "source": [
    "def intrinsic_dim_2nn_from_dist_matrix(D):\n",
    "    \"\"\"\n",
    "    Compute the local 2-Nearest-Neighbors (2NN) intrinsic dimensionality\n",
    "    for each point, given a distance matrix D.\n",
    "    \n",
    "    Parameters\n",
    "    ----------\n",
    "    D : ndarray of shape (n_samples, n_samples)\n",
    "        Distance matrix where D[i, j] is the distance from point i to point j.\n",
    "        We expect D[i, i] = 0 (distance to itself).\n",
    "    \n",
    "    Returns\n",
    "    -------\n",
    "    local_id : ndarray of shape (n_samples,)\n",
    "        The 2NN intrinsic dimension estimates for each sample.\n",
    "    \"\"\"\n",
    "    n = D.shape[0]\n",
    "    local_id = np.zeros(n, dtype=float)\n",
    "\n",
    "    for i in range(n):\n",
    "        # Extract distances from point i to others\n",
    "        # Ignore the diagonal (distance to itself = 0), we don't consider that a neighbor.\n",
    "        row = D[i].copy()\n",
    "        row[i] = np.inf  # So it doesn't get chosen as a \"neighbor\"\n",
    "\n",
    "        # Sort distances in ascending order\n",
    "        sorted_dists = np.sort(row)\n",
    "        \n",
    "        # The 1st neighbor distance (r1) is the smallest non-diagonal distance\n",
    "        r1 = sorted_dists[0]\n",
    "        # The 2nd neighbor distance (r2) is the second-smallest\n",
    "        r2 = sorted_dists[1]\n",
    "\n",
    "        # Compute the 2NN local ID = ln(2) / ln(r2 / r1)\n",
    "        # Watch out for numerical issues: 0 distances, identical distances, etc.\n",
    "        if r1 <= 0 or r2 <= 0 or r2 == r1:\n",
    "            local_id[i] = np.nan\n",
    "        else:\n",
    "            local_id[i] = np.log(2.0) / np.log(r2 / r1)\n",
    "    \n",
    "    return local_id\n"
   ],
   "metadata": {
    "collapsed": false,
    "ExecuteTime": {
     "end_time": "2025-01-19T17:15:13.503651Z",
     "start_time": "2025-01-19T17:15:13.496430Z"
    }
   },
   "id": "1e5e05f63762d846"
  },
  {
   "cell_type": "code",
   "execution_count": 12,
   "outputs": [
    {
     "data": {
      "text/plain": "array([197.54674378,   0.33079702,   0.33024402, ...,          nan,\n                nan,          nan])"
     },
     "execution_count": 12,
     "metadata": {},
     "output_type": "execute_result"
    }
   ],
   "source": [
    "intrinsic_dim_2nn_from_dist_matrix((distance_matrix - 1) * -1)"
   ],
   "metadata": {
    "collapsed": false,
    "ExecuteTime": {
     "end_time": "2025-01-19T17:16:47.076352Z",
     "start_time": "2025-01-19T17:16:21.828836Z"
    }
   },
   "id": "b18c20f2b5ec5c77"
  },
  {
   "cell_type": "code",
   "execution_count": null,
   "outputs": [],
   "source": [],
   "metadata": {
    "collapsed": false
   },
   "id": "bff99968bdc1cfba"
  },
  {
   "cell_type": "code",
   "execution_count": null,
   "outputs": [],
   "source": [],
   "metadata": {
    "collapsed": false
   },
   "id": "204fc76dfaa6b335"
  },
  {
   "cell_type": "code",
   "execution_count": null,
   "outputs": [],
   "source": [],
   "metadata": {
    "collapsed": false
   },
   "id": "30b1793540ad2afd"
  },
  {
   "cell_type": "code",
   "execution_count": null,
   "outputs": [],
   "source": [],
   "metadata": {
    "collapsed": false
   },
   "id": "42d1943a9942ea20"
  }
 ],
 "metadata": {
  "kernelspec": {
   "display_name": "Python 3",
   "language": "python",
   "name": "python3"
  },
  "language_info": {
   "codemirror_mode": {
    "name": "ipython",
    "version": 2
   },
   "file_extension": ".py",
   "mimetype": "text/x-python",
   "name": "python",
   "nbconvert_exporter": "python",
   "pygments_lexer": "ipython2",
   "version": "2.7.6"
  }
 },
 "nbformat": 4,
 "nbformat_minor": 5
}
